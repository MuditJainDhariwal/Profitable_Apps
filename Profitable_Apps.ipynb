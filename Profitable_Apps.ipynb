{
 "cells": [
  {
   "cell_type": "markdown",
   "metadata": {},
   "source": [
    "# Data Science Project\n",
    "\n",
    "The project is analysing user's engagement with free apps launched on PlayStore and Apple Store. The goal of the project is to better understand the revenue stream and how to modify products to further the desireable results"
   ]
  },
  {
   "cell_type": "code",
   "execution_count": 1,
   "metadata": {},
   "outputs": [],
   "source": [
    "from csv import *\n",
    "\n",
    "def extract_dataset(filename, has_header=False):\n",
    "    opened_file = open(filename)\n",
    "    read_file = reader(opened_file)\n",
    "    data_set = list(read_file)\n",
    "    \n",
    "    if has_header:\n",
    "        return data_set[0], data_set[1:]\n",
    "    return data_set[1:]\n",
    "\n",
    "Apple_data_set = extract_dataset('AppleStore.csv')\n",
    "Google_data_set = extract_dataset('googleplaystore.csv')"
   ]
  },
  {
   "cell_type": "code",
   "execution_count": 2,
   "metadata": {},
   "outputs": [
    {
     "name": "stdout",
     "output_type": "stream",
     "text": [
      "['id', 'track_name', 'size_bytes', 'currency', 'price', 'rating_count_tot', 'rating_count_ver', 'user_rating', 'user_rating_ver', 'ver', 'cont_rating', 'prime_genre', 'sup_devices.num', 'ipadSc_urls.num', 'lang.num', 'vpp_lic']\n",
      "\n",
      "\n",
      "['App', 'Category', 'Rating', 'Reviews', 'Size', 'Installs', 'Type', 'Price', 'Content Rating', 'Genres', 'Last Updated', 'Current Ver', 'Android Ver']\n"
     ]
    }
   ],
   "source": [
    "a = extract_dataset('AppleStore.csv', True)\n",
    "b = extract_dataset('googleplaystore.csv', True)\n",
    "\n",
    "print(a[0])\n",
    "print(\"\\n\")\n",
    "\n",
    "print(b[0])"
   ]
  },
  {
   "cell_type": "code",
   "execution_count": 3,
   "metadata": {},
   "outputs": [
    {
     "name": "stdout",
     "output_type": "stream",
     "text": [
      "This is Apple Data ------------------------------\n",
      "['284882215', 'Facebook', '389879808', 'USD', '0.0', '2974676', '212', '3.5', '3.5', '95.0', '4+', 'Social Networking', '37', '1', '29', '1']\n",
      "\n",
      "\n",
      "['389801252', 'Instagram', '113954816', 'USD', '0.0', '2161558', '1289', '4.5', '4.0', '10.23', '12+', 'Photo & Video', '37', '0', '29', '1']\n",
      "\n",
      "\n",
      "['529479190', 'Clash of Clans', '116476928', 'USD', '0.0', '2130805', '579', '4.5', '4.5', '9.24.12', '9+', 'Games', '38', '5', '18', '1']\n",
      "\n",
      "\n",
      "Number of rows: 7197\n",
      "Number of columns: 16\n",
      "\n",
      "\n",
      "This is Google Data ------------------------------\n",
      "['Photo Editor & Candy Camera & Grid & ScrapBook', 'ART_AND_DESIGN', '4.1', '159', '19M', '10,000+', 'Free', '0', 'Everyone', 'Art & Design', 'January 7, 2018', '1.0.0', '4.0.3 and up']\n",
      "\n",
      "\n",
      "['Coloring book moana', 'ART_AND_DESIGN', '3.9', '967', '14M', '500,000+', 'Free', '0', 'Everyone', 'Art & Design;Pretend Play', 'January 15, 2018', '2.0.0', '4.0.3 and up']\n",
      "\n",
      "\n",
      "['U Launcher Lite – FREE Live Cool Themes, Hide Apps', 'ART_AND_DESIGN', '4.7', '87510', '8.7M', '5,000,000+', 'Free', '0', 'Everyone', 'Art & Design', 'August 1, 2018', '1.2.4', '4.0.3 and up']\n",
      "\n",
      "\n",
      "Number of rows: 10841\n",
      "Number of columns: 13\n"
     ]
    }
   ],
   "source": [
    "def explore_data(dataset, start, end, rows_and_columns=False):\n",
    "    dataset_slice = dataset[start:end]    \n",
    "    for row in dataset_slice:\n",
    "        print(row)\n",
    "        print('\\n') # adds a new (empty) line after each row\n",
    "\n",
    "    if rows_and_columns:\n",
    "        print('Number of rows:', len(dataset))\n",
    "        print('Number of columns:', len(dataset[0]))\n",
    "\n",
    "print(\"This is Apple Data ------------------------------\")\n",
    "explore_data(Apple_data_set, 0, 3, rows_and_columns=True)\n",
    "\n",
    "print(\"\\n\")\n",
    "print(\"This is Google Data ------------------------------\")\n",
    "explore_data(Google_data_set, 0, 3, rows_and_columns=True)"
   ]
  },
  {
   "cell_type": "code",
   "execution_count": 4,
   "metadata": {},
   "outputs": [
    {
     "name": "stdout",
     "output_type": "stream",
     "text": [
      "['Life Made WI-Fi Touchscreen Photo Frame', '1.9', '19', '3.0M', '1,000+', 'Free', '0', 'Everyone', '', 'February 11, 2018', '1.0.19', '4.0 and up']\n",
      "12\n"
     ]
    }
   ],
   "source": [
    "print(Google_data_set[10472])\n",
    "print(len(Google_data_set[10472]))"
   ]
  },
  {
   "cell_type": "code",
   "execution_count": 5,
   "metadata": {},
   "outputs": [],
   "source": [
    "del Google_data_set[10472] ## deleting the row with error\n",
    "# Warning! don't run this cell"
   ]
  },
  {
   "cell_type": "code",
   "execution_count": 6,
   "metadata": {},
   "outputs": [
    {
     "name": "stdout",
     "output_type": "stream",
     "text": [
      "['osmino Wi-Fi: free WiFi', 'TOOLS', '4.2', '134203', '4.1M', '10,000,000+', 'Free', '0', 'Everyone', 'Tools', 'August 7, 2018', '6.06.14', '4.4 and up']\n",
      "13\n"
     ]
    }
   ],
   "source": [
    "print(Google_data_set[10472]) # printing the new row\n",
    "print(len(Google_data_set[10472])) ## confirming it is free of error"
   ]
  },
  {
   "cell_type": "code",
   "execution_count": 7,
   "metadata": {},
   "outputs": [
    {
     "name": "stdout",
     "output_type": "stream",
     "text": [
      "No. of duplicate apps in android: 1181\n"
     ]
    }
   ],
   "source": [
    "android_unique_apps = []\n",
    "android_duplicate_apps = []\n",
    "\n",
    "for row in Google_data_set:\n",
    "    name = row[0]\n",
    "    \n",
    "    if name not in android_unique_apps:\n",
    "        android_unique_apps.append(name)\n",
    "    else:\n",
    "        android_duplicate_apps.append(name)\n",
    "        \n",
    "print(\"No. of duplicate apps in android: \"+ str(len(android_duplicate_apps)))"
   ]
  },
  {
   "cell_type": "markdown",
   "metadata": {},
   "source": [
    "There are 1181 duplicate entries in Google Data Set. This is possibly because data were collected in different times."
   ]
  },
  {
   "cell_type": "markdown",
   "metadata": {},
   "source": [
    "# Remove Duplicate Data\n",
    "I'd remove the duplicates based on number of reviews for each entry. The entry with highest reviews will be kept since it suggests the most recent collection of the data and rest will be removed"
   ]
  },
  {
   "cell_type": "code",
   "execution_count": 8,
   "metadata": {},
   "outputs": [
    {
     "name": "stdout",
     "output_type": "stream",
     "text": [
      "9659\n"
     ]
    }
   ],
   "source": [
    "reviews_max = {}\n",
    "\n",
    "for row in Google_data_set:\n",
    "    name = row[0]\n",
    "    n_reviews = float(row[3])\n",
    "    \n",
    "    if name in reviews_max:\n",
    "        if reviews_max[name] < n_reviews:\n",
    "            reviews_max[name] = n_reviews\n",
    "    else:\n",
    "        reviews_max[name] = n_reviews\n",
    "        \n",
    "print(len(reviews_max))"
   ]
  },
  {
   "cell_type": "code",
   "execution_count": 9,
   "metadata": {},
   "outputs": [
    {
     "name": "stdout",
     "output_type": "stream",
     "text": [
      "-----Android data set without any duplicate-----\n",
      "\n",
      "['Photo Editor & Candy Camera & Grid & ScrapBook', 'ART_AND_DESIGN', '4.1', '159', '19M', '10,000+', 'Free', '0', 'Everyone', 'Art & Design', 'January 7, 2018', '1.0.0', '4.0.3 and up']\n",
      "\n",
      "\n",
      "['U Launcher Lite – FREE Live Cool Themes, Hide Apps', 'ART_AND_DESIGN', '4.7', '87510', '8.7M', '5,000,000+', 'Free', '0', 'Everyone', 'Art & Design', 'August 1, 2018', '1.2.4', '4.0.3 and up']\n",
      "\n",
      "\n",
      "['Sketch - Draw & Paint', 'ART_AND_DESIGN', '4.5', '215644', '25M', '50,000,000+', 'Free', '0', 'Teen', 'Art & Design', 'June 8, 2018', 'Varies with device', '4.2 and up']\n",
      "\n",
      "\n",
      "['Pixel Draw - Number Art Coloring Book', 'ART_AND_DESIGN', '4.3', '967', '2.8M', '100,000+', 'Free', '0', 'Everyone', 'Art & Design;Creativity', 'June 20, 2018', '1.1', '4.4 and up']\n",
      "\n",
      "\n",
      "['Paper flowers instructions', 'ART_AND_DESIGN', '4.4', '167', '5.6M', '50,000+', 'Free', '0', 'Everyone', 'Art & Design', 'March 26, 2017', '1.0', '2.3 and up']\n",
      "\n",
      "\n",
      "Number of rows: 9659\n",
      "Number of columns: 13\n"
     ]
    }
   ],
   "source": [
    "android_clean = []\n",
    "already_added = []\n",
    "\n",
    "for row in Google_data_set:\n",
    "    name = row[0]\n",
    "    n_reviews = float(row[3])\n",
    "    \n",
    "    if n_reviews == reviews_max[name] and (name not in already_added):\n",
    "        # The second condition is needed in case there are multiple\n",
    "        # entries of apps with maximum reviews\n",
    "        android_clean.append(row)\n",
    "        already_added.append(name)\n",
    "\n",
    "print(\"-----Android data set without any duplicate-----\" + \"\\n\")\n",
    "explore_data(android_clean,0,5,rows_and_columns=True)"
   ]
  },
  {
   "cell_type": "markdown",
   "metadata": {},
   "source": [
    "# Remove Non-English Apps\n",
    "Next, I will remove all the Non-english app from the data set."
   ]
  },
  {
   "cell_type": "code",
   "execution_count": 10,
   "metadata": {},
   "outputs": [
    {
     "name": "stdout",
     "output_type": "stream",
     "text": [
      "True\n",
      "False\n",
      "True\n",
      "True\n"
     ]
    }
   ],
   "source": [
    "def isEnglish(a_string):\n",
    "    non_english_counter = 0\n",
    "    for s in a_string:\n",
    "        if non_english_counter > 3:\n",
    "            return False\n",
    "        \n",
    "        if ord(s) > 127:\n",
    "            non_english_counter += 1\n",
    "            \n",
    "    return True\n",
    "\n",
    "#Testing the Above function\n",
    "print(isEnglish('Instagram'))\n",
    "print(isEnglish('爱奇艺PPS -《欢乐颂2》电视剧热播'))\n",
    "print(isEnglish('Docs To Go™ Free Office Suite'))\n",
    "print(isEnglish('Instachat 😜'))"
   ]
  },
  {
   "cell_type": "code",
   "execution_count": 11,
   "metadata": {
    "scrolled": true
   },
   "outputs": [
    {
     "name": "stdout",
     "output_type": "stream",
     "text": [
      "-----Android Apps-----\n",
      "\n",
      "['Photo Editor & Candy Camera & Grid & ScrapBook', 'ART_AND_DESIGN', '4.1', '159', '19M', '10,000+', 'Free', '0', 'Everyone', 'Art & Design', 'January 7, 2018', '1.0.0', '4.0.3 and up']\n",
      "\n",
      "\n",
      "['U Launcher Lite – FREE Live Cool Themes, Hide Apps', 'ART_AND_DESIGN', '4.7', '87510', '8.7M', '5,000,000+', 'Free', '0', 'Everyone', 'Art & Design', 'August 1, 2018', '1.2.4', '4.0.3 and up']\n",
      "\n",
      "\n",
      "['Sketch - Draw & Paint', 'ART_AND_DESIGN', '4.5', '215644', '25M', '50,000,000+', 'Free', '0', 'Teen', 'Art & Design', 'June 8, 2018', 'Varies with device', '4.2 and up']\n",
      "\n",
      "\n",
      "Number of rows: 9616\n",
      "Number of columns: 13\n",
      "\n",
      "-----Ios Apps-----\n",
      "\n",
      "['284882215', 'Facebook', '389879808', 'USD', '0.0', '2974676', '212', '3.5', '3.5', '95.0', '4+', 'Social Networking', '37', '1', '29', '1']\n",
      "\n",
      "\n",
      "['389801252', 'Instagram', '113954816', 'USD', '0.0', '2161558', '1289', '4.5', '4.0', '10.23', '12+', 'Photo & Video', '37', '0', '29', '1']\n",
      "\n",
      "\n",
      "['529479190', 'Clash of Clans', '116476928', 'USD', '0.0', '2130805', '579', '4.5', '4.5', '9.24.12', '9+', 'Games', '38', '5', '18', '1']\n",
      "\n",
      "\n",
      "Number of rows: 6226\n",
      "Number of columns: 16\n"
     ]
    }
   ],
   "source": [
    "def filter_English_Apps(data_set, index_of_name):\n",
    "    filtered = []\n",
    "    \n",
    "    for row in data_set:\n",
    "        name = row[index_of_name]\n",
    "        if isEnglish(name):\n",
    "            filtered.append(row)\n",
    "    \n",
    "    return filtered\n",
    "\n",
    "android_english_apps = filter_English_Apps(android_clean, 0)\n",
    "ios_english_apps = filter_English_Apps(Apple_data_set, 1)\n",
    "\n",
    "print(\"-----Android Apps-----\" + \"\\n\")\n",
    "explore_data(android_english_apps,0,3,True)\n",
    "print(\"\\n\" + \"-----Ios Apps-----\" + \"\\n\")\n",
    "explore_data(ios_english_apps,0,3,True)"
   ]
  },
  {
   "cell_type": "markdown",
   "metadata": {},
   "source": [
    "## Collecting only free apps in data set"
   ]
  },
  {
   "cell_type": "code",
   "execution_count": 23,
   "metadata": {},
   "outputs": [
    {
     "name": "stdout",
     "output_type": "stream",
     "text": [
      "['Photo Editor & Candy Camera & Grid & ScrapBook', 'ART_AND_DESIGN', '4.1', '159', '19M', '10,000+', 'Free', '0', 'Everyone', 'Art & Design', 'January 7, 2018', '1.0.0', '4.0.3 and up']\n",
      "\n",
      "\n",
      "['U Launcher Lite – FREE Live Cool Themes, Hide Apps', 'ART_AND_DESIGN', '4.7', '87510', '8.7M', '5,000,000+', 'Free', '0', 'Everyone', 'Art & Design', 'August 1, 2018', '1.2.4', '4.0.3 and up']\n",
      "\n",
      "\n",
      "['Sketch - Draw & Paint', 'ART_AND_DESIGN', '4.5', '215644', '25M', '50,000,000+', 'Free', '0', 'Teen', 'Art & Design', 'June 8, 2018', 'Varies with device', '4.2 and up']\n",
      "\n",
      "\n",
      "Number of rows: 8866\n",
      "Number of columns: 13\n",
      "\n",
      "\n",
      "['284882215', 'Facebook', '389879808', 'USD', '0.0', '2974676', '212', '3.5', '3.5', '95.0', '4+', 'Social Networking', '37', '1', '29', '1']\n",
      "\n",
      "\n",
      "['389801252', 'Instagram', '113954816', 'USD', '0.0', '2161558', '1289', '4.5', '4.0', '10.23', '12+', 'Photo & Video', '37', '0', '29', '1']\n",
      "\n",
      "\n",
      "['529479190', 'Clash of Clans', '116476928', 'USD', '0.0', '2130805', '579', '4.5', '4.5', '9.24.12', '9+', 'Games', '38', '5', '18', '1']\n",
      "\n",
      "\n",
      "Number of rows: 3253\n",
      "Number of columns: 16\n"
     ]
    }
   ],
   "source": [
    "def filter_freeApps(data_set, index_of_price):\n",
    "    filtered = []\n",
    "\n",
    "    for row in data_set:\n",
    "        price = row[index_of_price]\n",
    "        if price == '0' or price == '0.0':\n",
    "            filtered.append(row)\n",
    "\n",
    "    return filtered\n",
    "\n",
    "Free_English_android_apps = filter_freeApps(android_english_apps, 7)\n",
    "Free_English_ios_apps = filter_freeApps(ios_english_apps, 4)\n",
    "\n",
    "explore_data(Free_English_android_apps,0,3,True)\n",
    "print(\"\\n\")\n",
    "explore_data(Free_English_ios_apps,0,3,True)"
   ]
  },
  {
   "cell_type": "markdown",
   "metadata": {},
   "source": [
    " To minimize cost we need our app to work in Google and preferably in App Store too. More the traffic higher is the revenue attracted."
   ]
  },
  {
   "cell_type": "code",
   "execution_count": 36,
   "metadata": {},
   "outputs": [
    {
     "name": "stdout",
     "output_type": "stream",
     "text": [
      "Distribution of Apps based on different categories in App Store \n",
      "\n",
      "Games : 57.85\n",
      "Entertainment : 7.93\n",
      "Photo & Video : 4.92\n",
      "Education : 3.63\n",
      "Social Networking : 3.26\n",
      "Shopping : 2.67\n",
      "Utilities : 2.52\n",
      "Sports : 2.12\n",
      "Music : 2.03\n",
      "Health & Fitness : 2.0\n",
      "Productivity : 1.75\n",
      "Lifestyle : 1.6\n",
      "News : 1.32\n",
      "Travel : 1.29\n",
      "Finance : 1.26\n",
      "Weather : 0.89\n",
      "Food & Drink : 0.89\n",
      "Reference : 0.55\n",
      "Business : 0.55\n",
      "Book : 0.46\n",
      "Navigation : 0.18\n",
      "Medical : 0.18\n",
      "Catalogs : 0.12\n"
     ]
    }
   ],
   "source": [
    "def create_frequency_table(data_set, index):\n",
    "    table = {}\n",
    "    display_table = []\n",
    "    for row in data_set:\n",
    "        key = row[index]\n",
    "        \n",
    "        if key in table:\n",
    "            table[key] += 1\n",
    "        else:\n",
    "            table[key] = 1\n",
    "\n",
    "    \n",
    "    return table\n",
    "\n",
    "def display_proportion_of_apps(data_set, index):\n",
    "    table = create_frequency_table(data_set, index)\n",
    "    display_table = []\n",
    "    for key in table:\n",
    "        proportion = table[key] / len(data_set)\n",
    "        value = round(proportion * 100, 2)\n",
    "        display_table.append((key, value))\n",
    "        \n",
    "    display_table.sort(key=lambda x:x[1], reverse=True)\n",
    "    \n",
    "    for row in display_table:\n",
    "        print(row[0] + \" : \" + str(row[1]))\n",
    "        \n",
    "print(\"Distribution of Apps based on different categories in App Store\",\"\\n\")       \n",
    "display_proportion_of_apps(Free_English_ios_apps, 11)"
   ]
  },
  {
   "cell_type": "code",
   "execution_count": 37,
   "metadata": {},
   "outputs": [
    {
     "name": "stdout",
     "output_type": "stream",
     "text": [
      "Distribution of Apps based on different categories in Play Store \n",
      "\n",
      "FAMILY : 18.9\n",
      "GAME : 9.72\n",
      "TOOLS : 8.46\n",
      "BUSINESS : 4.59\n",
      "LIFESTYLE : 3.91\n",
      "PRODUCTIVITY : 3.89\n",
      "FINANCE : 3.7\n",
      "MEDICAL : 3.53\n",
      "SPORTS : 3.39\n",
      "PERSONALIZATION : 3.32\n",
      "COMMUNICATION : 3.24\n",
      "HEALTH_AND_FITNESS : 3.08\n",
      "PHOTOGRAPHY : 2.94\n",
      "NEWS_AND_MAGAZINES : 2.8\n",
      "SOCIAL : 2.66\n",
      "TRAVEL_AND_LOCAL : 2.33\n",
      "SHOPPING : 2.24\n",
      "BOOKS_AND_REFERENCE : 2.15\n",
      "DATING : 1.86\n",
      "VIDEO_PLAYERS : 1.79\n",
      "MAPS_AND_NAVIGATION : 1.4\n",
      "FOOD_AND_DRINK : 1.24\n",
      "EDUCATION : 1.16\n",
      "ENTERTAINMENT : 0.96\n",
      "LIBRARIES_AND_DEMO : 0.94\n",
      "AUTO_AND_VEHICLES : 0.92\n",
      "HOUSE_AND_HOME : 0.82\n",
      "WEATHER : 0.8\n",
      "EVENTS : 0.71\n",
      "PARENTING : 0.65\n",
      "ART_AND_DESIGN : 0.64\n",
      "COMICS : 0.62\n",
      "BEAUTY : 0.6\n"
     ]
    }
   ],
   "source": [
    "print(\"Distribution of Apps based on different categories in Play Store\",\"\\n\")       \n",
    "display_proportion_of_apps(Free_English_android_apps, 1)"
   ]
  },
  {
   "cell_type": "code",
   "execution_count": 41,
   "metadata": {},
   "outputs": [
    {
     "name": "stdout",
     "output_type": "stream",
     "text": [
      "Social Networking:71548.34905660378\n",
      "Photo & Video:28441.54375\n",
      "Games:22691.801806588734\n",
      "Music:57326.530303030304\n",
      "Reference:74942.11111111111\n",
      "Health & Fitness:23298.015384615384\n",
      "Weather:50477.137931034486\n",
      "Utilities:18460.353658536584\n",
      "Travel:26925.166666666668\n",
      "Shopping:25996.32183908046\n",
      "News:21248.023255813954\n",
      "Navigation:86090.33333333333\n",
      "Lifestyle:16168.73076923077\n",
      "Entertainment:13831.282945736433\n",
      "Food & Drink:29885.758620689656\n",
      "Sports:23008.898550724636\n",
      "Book:37217.73333333333\n",
      "Finance:27638.243902439026\n",
      "Education:7003.983050847458\n",
      "Productivity:20702.19298245614\n",
      "Business:7075.333333333333\n",
      "Catalogs:4004.0\n",
      "Medical:612.0\n"
     ]
    }
   ],
   "source": [
    "genre_freq = create_frequency_table(Free_English_ios_apps, -5)\n",
    "for genre in genre_freq:\n",
    "    total = 0\n",
    "    for row in Free_English_ios_apps:\n",
    "        genre_app = row[-5]\n",
    "        \n",
    "        if genre == genre_app:\n",
    "            total += float(row[5])\n",
    "\n",
    "    average = total / genre_freq[genre]\n",
    "    print(genre + \":\" + str(average))"
   ]
  },
  {
   "cell_type": "code",
   "execution_count": 55,
   "metadata": {},
   "outputs": [
    {
     "name": "stdout",
     "output_type": "stream",
     "text": [
      "ART_AND_DESIGN  :  1986335.0877192982\n",
      "AUTO_AND_VEHICLES  :  647317.8170731707\n",
      "BEAUTY  :  513151.88679245283\n",
      "BOOKS_AND_REFERENCE  :  8721959.47643979\n",
      "BUSINESS  :  1712290.1474201474\n",
      "COMICS  :  817657.2727272727\n",
      "COMMUNICATION  :  38456119.167247385\n",
      "DATING  :  854028.8303030303\n",
      "EDUCATION  :  1833495.145631068\n",
      "ENTERTAINMENT  :  11640705.88235294\n",
      "EVENTS  :  253542.22222222222\n",
      "FINANCE  :  1387692.475609756\n",
      "FOOD_AND_DRINK  :  1924897.7363636363\n",
      "HEALTH_AND_FITNESS  :  4188821.9853479853\n",
      "HOUSE_AND_HOME  :  1331540.5616438356\n",
      "LIBRARIES_AND_DEMO  :  638503.734939759\n",
      "LIFESTYLE  :  1433701.5244956773\n",
      "GAME  :  15588015.603248259\n",
      "FAMILY  :  3695641.8198090694\n",
      "MEDICAL  :  120550.61980830671\n",
      "SOCIAL  :  23253652.127118643\n",
      "SHOPPING  :  7036877.311557789\n",
      "PHOTOGRAPHY  :  17840110.40229885\n",
      "SPORTS  :  3638640.1428571427\n",
      "TRAVEL_AND_LOCAL  :  13984077.710144928\n",
      "TOOLS  :  10801391.298666667\n",
      "PERSONALIZATION  :  5201482.6122448975\n",
      "PRODUCTIVITY  :  16787331.344927534\n",
      "PARENTING  :  542603.6206896552\n",
      "WEATHER  :  5074486.197183099\n",
      "VIDEO_PLAYERS  :  24727872.452830188\n",
      "NEWS_AND_MAGAZINES  :  9549178.467741935\n",
      "MAPS_AND_NAVIGATION  :  4056941.7741935486\n"
     ]
    }
   ],
   "source": [
    "category_frequency = create_frequency_table(Free_English_android_apps,1)\n",
    "\n",
    "\n",
    "for category in category_frequency:\n",
    "    total = 0\n",
    "    for row in Free_English_android_apps:\n",
    "        category_app = row[1]\n",
    "        \n",
    "        if category == category_app:\n",
    "            n_installs = float(row[5].replace('+', '').replace(',', ''))\n",
    "            total += round(n_installs,\n",
    "            \n",
    "    average = total / category_frequency[category]\n",
    "    print(category, \" : \", str(average))"
   ]
  },
  {
   "cell_type": "code",
   "execution_count": null,
   "metadata": {},
   "outputs": [],
   "source": []
  }
 ],
 "metadata": {
  "kernelspec": {
   "display_name": "Python 3",
   "language": "python",
   "name": "python3"
  },
  "language_info": {
   "codemirror_mode": {
    "name": "ipython",
    "version": 3
   },
   "file_extension": ".py",
   "mimetype": "text/x-python",
   "name": "python",
   "nbconvert_exporter": "python",
   "pygments_lexer": "ipython3",
   "version": "3.8.2"
  }
 },
 "nbformat": 4,
 "nbformat_minor": 2
}
